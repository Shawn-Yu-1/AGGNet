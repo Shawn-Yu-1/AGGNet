{
 "cells": [
  {
   "cell_type": "code",
   "execution_count": 2,
   "metadata": {},
   "outputs": [],
   "source": [
    "import os\n",
    "\n",
    "path = \"/data/dataset/places512/data_large/\"\n",
    "\n",
    "for root, dirs, _ in os.walk(path):\n",
    "    for dir in dirs:\n",
    "        name = os.path.join(root, dir)\n",
    "        os.makedirs(name.replace(\"data_large\", \"train_canny\"), exist_ok=True)"
   ]
  }
 ],
 "metadata": {
  "kernelspec": {
   "display_name": "pytorch",
   "language": "python",
   "name": "python3"
  },
  "language_info": {
   "codemirror_mode": {
    "name": "ipython",
    "version": 3
   },
   "file_extension": ".py",
   "mimetype": "text/x-python",
   "name": "python",
   "nbconvert_exporter": "python",
   "pygments_lexer": "ipython3",
   "version": "3.8.13"
  },
  "orig_nbformat": 4,
  "vscode": {
   "interpreter": {
    "hash": "8323fe3177b887d173177365811fd4c4c7911cfb2ec97261f780e85626804da1"
   }
  }
 },
 "nbformat": 4,
 "nbformat_minor": 2
}
